{
 "cells": [
  {
   "cell_type": "code",
   "execution_count": 3,
   "metadata": {},
   "outputs": [],
   "source": [
    "import numpy as np\n",
    "import os\n",
    "import random\n",
    "import cv2\n",
    "import shutil\n",
    "from PIL import Image\n",
    "import zipfile\n"
   ]
  },
  {
   "cell_type": "code",
   "execution_count": 13,
   "metadata": {},
   "outputs": [],
   "source": [
    "# shutil.unpack_archive(\"data_nocc.zip\")\n",
    "with zipfile.ZipFile(\"data_nocc.zip\", 'r') as zip_ref:\n",
    "    zip_ref.extractall(\"images\")"
   ]
  },
  {
   "cell_type": "code",
   "execution_count": 12,
   "metadata": {},
   "outputs": [],
   "source": [
    "data_path = \"OccludedPASCAL3D\"\n",
    "label_files = {}\n",
    "occ_level = \"FGL2_BGL2\" # 20% - 40% occ ratio\n",
    "for dir_ in os.listdir(data_path):\n",
    "    if occ_level in dir_:\n",
    "        label = dir_[:-9]\n",
    "        dir_path = os.path.join(data_path, dir_)\n",
    "        files = [os.path.join(dir_path, file) for file in os.listdir(dir_path)]\n",
    "        label_files[label] = files"
   ]
  },
  {
   "cell_type": "code",
   "execution_count": null,
   "metadata": {},
   "outputs": [],
   "source": []
  },
  {
   "cell_type": "code",
   "execution_count": 12,
   "metadata": {},
   "outputs": [],
   "source": [
    "data_path = \"PASCAL3D\"\n",
    "label_files = {}\n",
    "for dir_ in os.listdir(data_path):\n",
    "    if \"pascal\" in dir_:\n",
    "        print(dir_)\n",
    "        label = dir_[:-7]\n",
    "        print(label)"
   ]
  },
  {
   "cell_type": "code",
   "execution_count": 13,
   "metadata": {},
   "outputs": [],
   "source": [
    "label_count = {label: len(files) for label, files in label_files.items()}\n",
    "min_count = 450\n",
    "class_count = len(label_count)\n",
    "label_files = {label: random.sample(files, min_count) for label, files in label_files.items()}"
   ]
  },
  {
   "cell_type": "code",
   "execution_count": 14,
   "metadata": {},
   "outputs": [],
   "source": [
    "# labels = {}\n",
    "# i = 0\n",
    "# for label in label_count:\n",
    "#     labels[label] = i\n",
    "#     i += 1\n",
    "    "
   ]
  },
  {
   "cell_type": "code",
   "execution_count": 15,
   "metadata": {},
   "outputs": [],
   "source": [
    "# y = []\n",
    "# X = []\n",
    "\n",
    "# for label, files in label_files.items():\n",
    "#     for file in files:\n",
    "#         y.append(labels[label])\n",
    "#         img = cv2.imread(file)\n",
    "#         res = cv2.resize(img, dsize=(48, 48), interpolation=cv2.INTER_CUBIC)\n",
    "#         X.append(res)\n",
    "\n",
    "# y = np.array(y)\n",
    "# X = np.array(X)"
   ]
  },
  {
   "cell_type": "code",
   "execution_count": 16,
   "metadata": {},
   "outputs": [
    {
     "name": "stdout",
     "output_type": "stream",
     "text": [
      "315\n"
     ]
    }
   ],
   "source": [
    "train_count = int(min_count * 0.7)\n",
    "print(train_count)"
   ]
  },
  {
   "cell_type": "code",
   "execution_count": 17,
   "metadata": {},
   "outputs": [],
   "source": [
    "for label, files in label_files.items():\n",
    "    train_path, test_path = \"data_occ/train/\" + label, \"data_occ/test/\" + label\n",
    "    os.makedirs(train_path, exist_ok = True)\n",
    "    os.makedirs(test_path, exist_ok = True)\n",
    "\n",
    "    i = 0\n",
    "    for file in files:\n",
    "        i += 1\n",
    "        file_name = os.path.basename(file)\n",
    "        img_data = cv2.resize(cv2.imread(file), dsize=(256, 256), interpolation=cv2.INTER_CUBIC)\n",
    "        img = Image.fromarray(img_data)\n",
    "        if i <= train_count:\n",
    "            img_path = os.path.join(train_path, file_name)\n",
    "            img.save(img_path)\n",
    "        else:\n",
    "            img_path = os.path.join(test_path, file_name)\n",
    "            img.save(img_path)"
   ]
  },
  {
   "cell_type": "code",
   "execution_count": null,
   "metadata": {},
   "outputs": [],
   "source": []
  }
 ],
 "metadata": {
  "kernelspec": {
   "display_name": "Python 3 PowerAI",
   "language": "python",
   "name": "python3"
  },
  "language_info": {
   "codemirror_mode": {
    "name": "ipython",
    "version": 3
   },
   "file_extension": ".py",
   "mimetype": "text/x-python",
   "name": "python",
   "nbconvert_exporter": "python",
   "pygments_lexer": "ipython3",
   "version": "3.7.6"
  }
 },
 "nbformat": 4,
 "nbformat_minor": 4
}
